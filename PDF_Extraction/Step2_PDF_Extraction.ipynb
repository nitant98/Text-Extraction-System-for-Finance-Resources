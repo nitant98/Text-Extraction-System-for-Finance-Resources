{
 "cells": [
  {
   "cell_type": "code",
   "execution_count": 1,
   "id": "eb2b7292",
   "metadata": {
    "execution": {
     "iopub.execute_input": "2024-02-16T04:33:30.755647Z",
     "iopub.status.busy": "2024-02-16T04:33:30.755209Z",
     "iopub.status.idle": "2024-02-16T04:33:39.938160Z",
     "shell.execute_reply": "2024-02-16T04:33:39.936815Z"
    }
   },
   "outputs": [
    {
     "name": "stdout",
     "output_type": "stream",
     "text": [
      "Requirement already satisfied: PyPDF2 in /Users/anirudhajoshi/opt/anaconda3/lib/python3.9/site-packages (from -r requirements.txt (line 1)) (3.0.1)\r\n",
      "Requirement already satisfied: nbconvert in /Users/anirudhajoshi/opt/anaconda3/lib/python3.9/site-packages (from -r requirements.txt (line 2)) (6.4.4)\r\n",
      "Requirement already satisfied: ipykernel in /Users/anirudhajoshi/opt/anaconda3/lib/python3.9/site-packages (from -r requirements.txt (line 3)) (6.15.2)\r\n"
     ]
    },
    {
     "name": "stdout",
     "output_type": "stream",
     "text": [
      "Requirement already satisfied: typing_extensions>=3.10.0.0 in /Users/anirudhajoshi/opt/anaconda3/lib/python3.9/site-packages (from PyPDF2->-r requirements.txt (line 1)) (4.9.0)\r\n",
      "Requirement already satisfied: nbformat>=4.4 in /Users/anirudhajoshi/opt/anaconda3/lib/python3.9/site-packages (from nbconvert->-r requirements.txt (line 2)) (5.5.0)\r\n",
      "Requirement already satisfied: jupyter-core in /Users/anirudhajoshi/opt/anaconda3/lib/python3.9/site-packages (from nbconvert->-r requirements.txt (line 2)) (4.11.1)\r\n",
      "Requirement already satisfied: bleach in /Users/anirudhajoshi/opt/anaconda3/lib/python3.9/site-packages (from nbconvert->-r requirements.txt (line 2)) (4.1.0)\r\n",
      "Requirement already satisfied: pygments>=2.4.1 in /Users/anirudhajoshi/opt/anaconda3/lib/python3.9/site-packages (from nbconvert->-r requirements.txt (line 2)) (2.14.0)\r\n",
      "Requirement already satisfied: entrypoints>=0.2.2 in /Users/anirudhajoshi/opt/anaconda3/lib/python3.9/site-packages (from nbconvert->-r requirements.txt (line 2)) (0.4)\r\n",
      "Requirement already satisfied: nbclient<0.6.0,>=0.5.0 in /Users/anirudhajoshi/opt/anaconda3/lib/python3.9/site-packages (from nbconvert->-r requirements.txt (line 2)) (0.5.13)\r\n",
      "Requirement already satisfied: traitlets>=5.0 in /Users/anirudhajoshi/opt/anaconda3/lib/python3.9/site-packages (from nbconvert->-r requirements.txt (line 2)) (5.1.1)\r\n",
      "Requirement already satisfied: jinja2>=2.4 in /Users/anirudhajoshi/opt/anaconda3/lib/python3.9/site-packages (from nbconvert->-r requirements.txt (line 2)) (2.11.3)\r\n",
      "Requirement already satisfied: jupyterlab-pygments in /Users/anirudhajoshi/opt/anaconda3/lib/python3.9/site-packages (from nbconvert->-r requirements.txt (line 2)) (0.1.2)\r\n",
      "Requirement already satisfied: testpath in /Users/anirudhajoshi/opt/anaconda3/lib/python3.9/site-packages (from nbconvert->-r requirements.txt (line 2)) (0.6.0)\r\n",
      "Requirement already satisfied: pandocfilters>=1.4.1 in /Users/anirudhajoshi/opt/anaconda3/lib/python3.9/site-packages (from nbconvert->-r requirements.txt (line 2)) (1.5.0)\r\n",
      "Requirement already satisfied: defusedxml in /Users/anirudhajoshi/opt/anaconda3/lib/python3.9/site-packages (from nbconvert->-r requirements.txt (line 2)) (0.7.1)\r\n",
      "Requirement already satisfied: beautifulsoup4 in /Users/anirudhajoshi/opt/anaconda3/lib/python3.9/site-packages (from nbconvert->-r requirements.txt (line 2)) (4.11.1)\r\n",
      "Requirement already satisfied: mistune<2,>=0.8.1 in /Users/anirudhajoshi/opt/anaconda3/lib/python3.9/site-packages (from nbconvert->-r requirements.txt (line 2)) (0.8.4)\r\n"
     ]
    },
    {
     "name": "stdout",
     "output_type": "stream",
     "text": [
      "Requirement already satisfied: tornado>=6.1 in /Users/anirudhajoshi/opt/anaconda3/lib/python3.9/site-packages (from ipykernel->-r requirements.txt (line 3)) (6.1)\r\n",
      "Requirement already satisfied: packaging in /Users/anirudhajoshi/opt/anaconda3/lib/python3.9/site-packages (from ipykernel->-r requirements.txt (line 3)) (21.3)\r\n",
      "Requirement already satisfied: matplotlib-inline>=0.1 in /Users/anirudhajoshi/opt/anaconda3/lib/python3.9/site-packages (from ipykernel->-r requirements.txt (line 3)) (0.1.6)\r\n",
      "Requirement already satisfied: jupyter-client>=6.1.12 in /Users/anirudhajoshi/opt/anaconda3/lib/python3.9/site-packages (from ipykernel->-r requirements.txt (line 3)) (7.3.4)\r\n",
      "Requirement already satisfied: appnope in /Users/anirudhajoshi/opt/anaconda3/lib/python3.9/site-packages (from ipykernel->-r requirements.txt (line 3)) (0.1.2)\r\n",
      "Requirement already satisfied: pyzmq>=17 in /Users/anirudhajoshi/opt/anaconda3/lib/python3.9/site-packages (from ipykernel->-r requirements.txt (line 3)) (23.2.0)\r\n",
      "Requirement already satisfied: nest-asyncio in /Users/anirudhajoshi/opt/anaconda3/lib/python3.9/site-packages (from ipykernel->-r requirements.txt (line 3)) (1.5.5)\r\n",
      "Requirement already satisfied: psutil in /Users/anirudhajoshi/opt/anaconda3/lib/python3.9/site-packages (from ipykernel->-r requirements.txt (line 3)) (5.9.0)\r\n",
      "Requirement already satisfied: debugpy>=1.0 in /Users/anirudhajoshi/opt/anaconda3/lib/python3.9/site-packages (from ipykernel->-r requirements.txt (line 3)) (1.5.1)\r\n",
      "Requirement already satisfied: ipython>=7.23.1 in /Users/anirudhajoshi/opt/anaconda3/lib/python3.9/site-packages (from ipykernel->-r requirements.txt (line 3)) (7.31.1)\r\n",
      "Requirement already satisfied: prompt-toolkit!=3.0.0,!=3.0.1,<3.1.0,>=2.0.0 in /Users/anirudhajoshi/opt/anaconda3/lib/python3.9/site-packages (from ipython>=7.23.1->ipykernel->-r requirements.txt (line 3)) (3.0.20)\r\n"
     ]
    },
    {
     "name": "stdout",
     "output_type": "stream",
     "text": [
      "Requirement already satisfied: setuptools>=18.5 in /Users/anirudhajoshi/opt/anaconda3/lib/python3.9/site-packages (from ipython>=7.23.1->ipykernel->-r requirements.txt (line 3)) (63.4.1)\r\n",
      "Requirement already satisfied: decorator in /Users/anirudhajoshi/opt/anaconda3/lib/python3.9/site-packages (from ipython>=7.23.1->ipykernel->-r requirements.txt (line 3)) (5.1.1)\r\n",
      "Requirement already satisfied: backcall in /Users/anirudhajoshi/opt/anaconda3/lib/python3.9/site-packages (from ipython>=7.23.1->ipykernel->-r requirements.txt (line 3)) (0.2.0)\r\n",
      "Requirement already satisfied: pexpect>4.3 in /Users/anirudhajoshi/opt/anaconda3/lib/python3.9/site-packages (from ipython>=7.23.1->ipykernel->-r requirements.txt (line 3)) (4.8.0)\r\n",
      "Requirement already satisfied: pickleshare in /Users/anirudhajoshi/opt/anaconda3/lib/python3.9/site-packages (from ipython>=7.23.1->ipykernel->-r requirements.txt (line 3)) (0.7.5)\r\n",
      "Requirement already satisfied: jedi>=0.16 in /Users/anirudhajoshi/opt/anaconda3/lib/python3.9/site-packages (from ipython>=7.23.1->ipykernel->-r requirements.txt (line 3)) (0.18.1)\r\n",
      "Requirement already satisfied: MarkupSafe>=0.23 in /Users/anirudhajoshi/opt/anaconda3/lib/python3.9/site-packages (from jinja2>=2.4->nbconvert->-r requirements.txt (line 2)) (2.0.1)\r\n",
      "Requirement already satisfied: python-dateutil>=2.8.2 in /Users/anirudhajoshi/opt/anaconda3/lib/python3.9/site-packages (from jupyter-client>=6.1.12->ipykernel->-r requirements.txt (line 3)) (2.8.2)\r\n"
     ]
    },
    {
     "name": "stdout",
     "output_type": "stream",
     "text": [
      "Requirement already satisfied: fastjsonschema in /Users/anirudhajoshi/opt/anaconda3/lib/python3.9/site-packages (from nbformat>=4.4->nbconvert->-r requirements.txt (line 2)) (2.16.2)\r\n",
      "Requirement already satisfied: jsonschema>=2.6 in /Users/anirudhajoshi/opt/anaconda3/lib/python3.9/site-packages (from nbformat>=4.4->nbconvert->-r requirements.txt (line 2)) (4.16.0)\r\n",
      "Requirement already satisfied: soupsieve>1.2 in /Users/anirudhajoshi/opt/anaconda3/lib/python3.9/site-packages (from beautifulsoup4->nbconvert->-r requirements.txt (line 2)) (2.3.1)\r\n",
      "Requirement already satisfied: six>=1.9.0 in /Users/anirudhajoshi/opt/anaconda3/lib/python3.9/site-packages (from bleach->nbconvert->-r requirements.txt (line 2)) (1.16.0)\r\n",
      "Requirement already satisfied: webencodings in /Users/anirudhajoshi/opt/anaconda3/lib/python3.9/site-packages (from bleach->nbconvert->-r requirements.txt (line 2)) (0.5.1)\r\n",
      "Requirement already satisfied: pyparsing!=3.0.5,>=2.0.2 in /Users/anirudhajoshi/opt/anaconda3/lib/python3.9/site-packages (from packaging->ipykernel->-r requirements.txt (line 3)) (3.0.9)\r\n"
     ]
    },
    {
     "name": "stdout",
     "output_type": "stream",
     "text": [
      "Requirement already satisfied: parso<0.9.0,>=0.8.0 in /Users/anirudhajoshi/opt/anaconda3/lib/python3.9/site-packages (from jedi>=0.16->ipython>=7.23.1->ipykernel->-r requirements.txt (line 3)) (0.8.3)\r\n",
      "Requirement already satisfied: attrs>=17.4.0 in /Users/anirudhajoshi/opt/anaconda3/lib/python3.9/site-packages (from jsonschema>=2.6->nbformat>=4.4->nbconvert->-r requirements.txt (line 2)) (21.4.0)\r\n",
      "Requirement already satisfied: pyrsistent!=0.17.0,!=0.17.1,!=0.17.2,>=0.14.0 in /Users/anirudhajoshi/opt/anaconda3/lib/python3.9/site-packages (from jsonschema>=2.6->nbformat>=4.4->nbconvert->-r requirements.txt (line 2)) (0.18.0)\r\n",
      "Requirement already satisfied: ptyprocess>=0.5 in /Users/anirudhajoshi/opt/anaconda3/lib/python3.9/site-packages (from pexpect>4.3->ipython>=7.23.1->ipykernel->-r requirements.txt (line 3)) (0.7.0)\r\n",
      "Requirement already satisfied: wcwidth in /Users/anirudhajoshi/opt/anaconda3/lib/python3.9/site-packages (from prompt-toolkit!=3.0.0,!=3.0.1,<3.1.0,>=2.0.0->ipython>=7.23.1->ipykernel->-r requirements.txt (line 3)) (0.2.5)\r\n"
     ]
    },
    {
     "name": "stdout",
     "output_type": "stream",
     "text": [
      "Note: you may need to restart the kernel to use updated packages.\n"
     ]
    }
   ],
   "source": [
    "pip install -r requirements.txt"
   ]
  },
  {
   "cell_type": "code",
   "execution_count": 2,
   "id": "414c3a0f",
   "metadata": {
    "execution": {
     "iopub.execute_input": "2024-02-16T04:33:39.945610Z",
     "iopub.status.busy": "2024-02-16T04:33:39.945305Z",
     "iopub.status.idle": "2024-02-16T04:33:39.999526Z",
     "shell.execute_reply": "2024-02-16T04:33:39.998984Z"
    }
   },
   "outputs": [],
   "source": [
    "import os\n",
    "import PyPDF2\n",
    "import re\n",
    "from pathlib import Path\n",
    "import xml.etree.ElementTree as ET\n",
    "import re\n",
    "import os"
   ]
  },
  {
   "cell_type": "code",
   "execution_count": 3,
   "id": "c019085a",
   "metadata": {
    "execution": {
     "iopub.execute_input": "2024-02-16T04:33:40.002656Z",
     "iopub.status.busy": "2024-02-16T04:33:40.002474Z",
     "iopub.status.idle": "2024-02-16T04:33:40.009024Z",
     "shell.execute_reply": "2024-02-16T04:33:40.008535Z"
    }
   },
   "outputs": [],
   "source": [
    "## Extract text using PyPDF2\n",
    "\n",
    "import os\n",
    "import PyPDF2\n",
    "\n",
    "def extract_text_pypdf(pdf_path, output_folder):\n",
    "    if not os.path.exists(output_folder):\n",
    "        os.makedirs(output_folder)\n",
    "    text = \"\"\n",
    "    with open(pdf_path, 'rb') as file:\n",
    "        reader = PyPDF2.PdfReader(file)\n",
    "        for page_num in range(len(reader.pages)):\n",
    "            text += reader.pages[page_num].extract_text()\n",
    "    output_filename = os.path.join(output_folder, f'PyPDF_RR_{os.path.basename(pdf_path)[:-4]}_combined.txt')\n",
    "    with open(output_filename, 'w') as file:\n",
    "        file.write(text)\n",
    "    print(f\"Text extracted from {pdf_path} using PyPDF2 and saved to {output_filename}\")\n"
   ]
  },
  {
   "cell_type": "code",
   "execution_count": 4,
   "id": "c618cfbd",
   "metadata": {
    "execution": {
     "iopub.execute_input": "2024-02-16T04:33:40.011838Z",
     "iopub.status.busy": "2024-02-16T04:33:40.011652Z",
     "iopub.status.idle": "2024-02-16T04:33:40.020518Z",
     "shell.execute_reply": "2024-02-16T04:33:40.020074Z"
    }
   },
   "outputs": [
    {
     "data": {
      "text/plain": [
       "'/Users/anirudhajoshi/Documents/NEU_Work/NEU_Spring2024_Work/Big_Data_IA/Assignment2_draft/PDF_Extraction'"
      ]
     },
     "execution_count": 4,
     "metadata": {},
     "output_type": "execute_result"
    }
   ],
   "source": [
    "pwd"
   ]
  },
  {
   "cell_type": "code",
   "execution_count": 5,
   "id": "775b8d18",
   "metadata": {
    "execution": {
     "iopub.execute_input": "2024-02-16T04:33:40.024459Z",
     "iopub.status.busy": "2024-02-16T04:33:40.024268Z",
     "iopub.status.idle": "2024-02-16T04:33:40.029523Z",
     "shell.execute_reply": "2024-02-16T04:33:40.029106Z"
    }
   },
   "outputs": [
    {
     "name": "stdout",
     "output_type": "stream",
     "text": [
      "/Users/anirudhajoshi/Documents/NEU_Work/NEU_Spring2024_Work/Big_Data_IA/Assignment2_draft/PDF_Extraction/grobid_client_python\n"
     ]
    }
   ],
   "source": [
    "cd grobid_client_python"
   ]
  },
  {
   "cell_type": "code",
   "execution_count": null,
   "id": "c9b04820",
   "metadata": {},
   "outputs": [],
   "source": []
  },
  {
   "cell_type": "code",
   "execution_count": 6,
   "id": "090443a9",
   "metadata": {
    "execution": {
     "iopub.execute_input": "2024-02-16T04:33:40.032227Z",
     "iopub.status.busy": "2024-02-16T04:33:40.032048Z",
     "iopub.status.idle": "2024-02-16T04:33:40.035423Z",
     "shell.execute_reply": "2024-02-16T04:33:40.034946Z"
    }
   },
   "outputs": [],
   "source": [
    "## Use Grobid to convert PDF to XML\n",
    "\n",
    "import subprocess\n",
    "\n",
    "def convert_to_xml_with_grobid(input_folder, output_folder):\n",
    "    subprocess.run(['python3', '-m', 'grobid_client.grobid_client', '--input', input_folder, '--output', output_folder, 'processFulltextDocument'])\n",
    "    print(f\"PDF files in {input_folder} converted to XML and saved to {output_folder}\")\n"
   ]
  },
  {
   "cell_type": "code",
   "execution_count": 7,
   "id": "473635f5",
   "metadata": {
    "execution": {
     "iopub.execute_input": "2024-02-16T04:33:40.037952Z",
     "iopub.status.busy": "2024-02-16T04:33:40.037811Z",
     "iopub.status.idle": "2024-02-16T04:33:40.043649Z",
     "shell.execute_reply": "2024-02-16T04:33:40.043195Z"
    }
   },
   "outputs": [],
   "source": [
    "## Convert XML to text using Grobid\n",
    "\n",
    "    \n",
    "def extract_text_from_element(element):\n",
    "    text = ''\n",
    "    if element.text:\n",
    "        text += element.text.strip() + ' '\n",
    "    for child in element:\n",
    "        text += extract_text_from_element(child)\n",
    "    return text\n",
    "\n",
    "def convert_xml_to_txt(xml_folder, txt_folder):\n",
    "    if not os.path.exists(txt_folder):\n",
    "        os.makedirs(txt_folder)  # Create the directory if it doesn't exist\n",
    "    \n",
    "    for xml_file in os.listdir(xml_folder):\n",
    "        if xml_file.endswith('.xml'):\n",
    "            xml_path = os.path.join(xml_folder, xml_file)\n",
    "            tree = ET.parse(xml_path)\n",
    "            root = tree.getroot()\n",
    "            \n",
    "            txt_filename = f\"Grobid_RR_{xml_file[:-4]}_combined.txt\"\n",
    "            txt_path = os.path.join(txt_folder, txt_filename)\n",
    "            \n",
    "            with open(txt_path, 'w') as txt_file:\n",
    "                text = extract_text_from_element(root)\n",
    "                txt_file.write(text)\n",
    "            print(f\"XML file {xml_file} converted to TXT and saved to {txt_path}\")\n"
   ]
  },
  {
   "cell_type": "code",
   "execution_count": 8,
   "id": "2a048427",
   "metadata": {
    "execution": {
     "iopub.execute_input": "2024-02-16T04:33:40.046310Z",
     "iopub.status.busy": "2024-02-16T04:33:40.046131Z",
     "iopub.status.idle": "2024-02-16T04:33:40.049644Z",
     "shell.execute_reply": "2024-02-16T04:33:40.049207Z"
    }
   },
   "outputs": [
    {
     "data": {
      "text/plain": [
       "'/Users/anirudhajoshi/Documents/NEU_Work/NEU_Spring2024_Work/Big_Data_IA/Assignment2_draft/PDF_Extraction/grobid_client_python'"
      ]
     },
     "execution_count": 8,
     "metadata": {},
     "output_type": "execute_result"
    }
   ],
   "source": [
    "pwd"
   ]
  },
  {
   "cell_type": "code",
   "execution_count": 9,
   "id": "3c1e79b4",
   "metadata": {
    "execution": {
     "iopub.execute_input": "2024-02-16T04:33:40.052262Z",
     "iopub.status.busy": "2024-02-16T04:33:40.052133Z",
     "iopub.status.idle": "2024-02-16T04:33:41.655792Z",
     "shell.execute_reply": "2024-02-16T04:33:41.655258Z"
    }
   },
   "outputs": [
    {
     "name": "stdout",
     "output_type": "stream",
     "text": [
      "Text extracted from ../Archive_2/2024-l3-topics-combined-2.pdf using PyPDF2 and saved to ../PyPDF/PyPDF_RR_2024-l3-topics-combined-2_combined.txt\n"
     ]
    },
    {
     "name": "stdout",
     "output_type": "stream",
     "text": [
      "Text extracted from ../Archive_2/2024-l1-topics-combined-2.pdf using PyPDF2 and saved to ../PyPDF/PyPDF_RR_2024-l1-topics-combined-2_combined.txt\n"
     ]
    },
    {
     "name": "stdout",
     "output_type": "stream",
     "text": [
      "Text extracted from ../Archive_2/2024-l2-topics-combined-2.pdf using PyPDF2 and saved to ../PyPDF/PyPDF_RR_2024-l2-topics-combined-2_combined.txt\n"
     ]
    }
   ],
   "source": [
    "## Run the extraction process\n",
    "\n",
    "input_folder = '../Archive_2/'\n",
    "output_folder_pypdf = '../PyPDF/'\n",
    "xml_folder = '../GROBID/xml'\n",
    "txt_folder = '../GROBID/txt'\n",
    "\n",
    "for filename in os.listdir(input_folder):\n",
    "    if filename.endswith('.pdf'):\n",
    "        extract_text_pypdf(os.path.join(input_folder, filename), output_folder_pypdf)\n",
    "\n"
   ]
  },
  {
   "cell_type": "code",
   "execution_count": 10,
   "id": "d472d40f",
   "metadata": {
    "execution": {
     "iopub.execute_input": "2024-02-16T04:33:41.658782Z",
     "iopub.status.busy": "2024-02-16T04:33:41.658580Z",
     "iopub.status.idle": "2024-02-16T04:33:42.143460Z",
     "shell.execute_reply": "2024-02-16T04:33:42.142776Z"
    }
   },
   "outputs": [
    {
     "name": "stdout",
     "output_type": "stream",
     "text": [
      "GROBID server is up and running\n",
      "../GROBID/xml/2024-l3-topics-combined-2.grobid.tei.xml already exist, skipping... (use --force to reprocess pdf input files)\n",
      "../GROBID/xml/2024-l1-topics-combined-2.grobid.tei.xml already exist, skipping... (use --force to reprocess pdf input files)\n",
      "../GROBID/xml/2024-l2-topics-combined-2.grobid.tei.xml already exist, skipping... (use --force to reprocess pdf input files)\n",
      "runtime: 0.002 seconds \n",
      "PDF files in ../Archive_2/ converted to XML and saved to ../GROBID/xml\n",
      "XML file 2024-l2-topics-combined-2.grobid.tei.xml converted to TXT and saved to ../GROBID/txt/Grobid_RR_2024-l2-topics-combined-2.grobid.tei_combined.txt\n",
      "XML file 2024-l1-topics-combined-2.grobid.tei.xml converted to TXT and saved to ../GROBID/txt/Grobid_RR_2024-l1-topics-combined-2.grobid.tei_combined.txt\n",
      "XML file 2024-l3-topics-combined-2.grobid.tei.xml converted to TXT and saved to ../GROBID/txt/Grobid_RR_2024-l3-topics-combined-2.grobid.tei_combined.txt\n"
     ]
    }
   ],
   "source": [
    "convert_to_xml_with_grobid(input_folder, xml_folder)\n",
    "convert_xml_to_txt(xml_folder, txt_folder)\n"
   ]
  },
  {
   "cell_type": "code",
   "execution_count": null,
   "id": "9bb7b171",
   "metadata": {},
   "outputs": [],
   "source": []
  }
 ],
 "metadata": {
  "kernelspec": {
   "display_name": "Python 3 (ipykernel)",
   "language": "python",
   "name": "python3"
  },
  "language_info": {
   "codemirror_mode": {
    "name": "ipython",
    "version": 3
   },
   "file_extension": ".py",
   "mimetype": "text/x-python",
   "name": "python",
   "nbconvert_exporter": "python",
   "pygments_lexer": "ipython3",
   "version": "3.9.13"
  }
 },
 "nbformat": 4,
 "nbformat_minor": 5
}
