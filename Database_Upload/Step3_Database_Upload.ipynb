{
 "cells": [
  {
   "cell_type": "code",
   "execution_count": 1,
   "id": "6cc28967",
   "metadata": {
    "execution": {
     "iopub.execute_input": "2024-02-16T19:21:30.791681Z",
     "iopub.status.busy": "2024-02-16T19:21:30.791143Z",
     "iopub.status.idle": "2024-02-16T19:21:32.480192Z",
     "shell.execute_reply": "2024-02-16T19:21:32.479148Z"
    }
   },
   "outputs": [
    {
     "name": "stdout",
     "output_type": "stream",
     "text": [
      "Requirement already satisfied: python-dotenv in /Users/anirudhajoshi/Documents/Test/Assignment2-main/Case1/lib/python3.9/site-packages (from -r requirements.txt (line 1)) (1.0.1)\r\n",
      "Requirement already satisfied: snowflake-connector-python in /Users/anirudhajoshi/Documents/Test/Assignment2-main/Case1/lib/python3.9/site-packages (from -r requirements.txt (line 2)) (3.7.0)\r\n",
      "Requirement already satisfied: pandas in /Users/anirudhajoshi/Documents/Test/Assignment2-main/Case1/lib/python3.9/site-packages (from -r requirements.txt (line 3)) (2.1.4)\r\n",
      "Requirement already satisfied: sqlalchemy in /Users/anirudhajoshi/Documents/Test/Assignment2-main/Case1/lib/python3.9/site-packages (from -r requirements.txt (line 4)) (1.4.51)\r\n",
      "Requirement already satisfied: snowflake-sqlalchemy in /Users/anirudhajoshi/Documents/Test/Assignment2-main/Case1/lib/python3.9/site-packages (from -r requirements.txt (line 5)) (1.5.1)\r\n"
     ]
    },
    {
     "name": "stdout",
     "output_type": "stream",
     "text": [
      "Requirement already satisfied: pytz in /Users/anirudhajoshi/Documents/Test/Assignment2-main/Case1/lib/python3.9/site-packages (from snowflake-connector-python->-r requirements.txt (line 2)) (2024.1)\r\n",
      "Requirement already satisfied: tomlkit in /Users/anirudhajoshi/Documents/Test/Assignment2-main/Case1/lib/python3.9/site-packages (from snowflake-connector-python->-r requirements.txt (line 2)) (0.12.3)\r\n",
      "Requirement already satisfied: idna<4,>=2.5 in /Users/anirudhajoshi/Documents/Test/Assignment2-main/Case1/lib/python3.9/site-packages/idna-3.6-py3.9.egg (from snowflake-connector-python->-r requirements.txt (line 2)) (3.6)\r\n",
      "Requirement already satisfied: asn1crypto<2.0.0,>0.24.0 in /Users/anirudhajoshi/Documents/Test/Assignment2-main/Case1/lib/python3.9/site-packages (from snowflake-connector-python->-r requirements.txt (line 2)) (1.5.1)\r\n",
      "Requirement already satisfied: packaging in /Users/anirudhajoshi/Documents/Test/Assignment2-main/Case1/lib/python3.9/site-packages (from snowflake-connector-python->-r requirements.txt (line 2)) (23.2)\r\n",
      "Requirement already satisfied: filelock<4,>=3.5 in /Users/anirudhajoshi/Documents/Test/Assignment2-main/Case1/lib/python3.9/site-packages (from snowflake-connector-python->-r requirements.txt (line 2)) (3.13.1)\r\n",
      "Requirement already satisfied: sortedcontainers>=2.4.0 in /Users/anirudhajoshi/Documents/Test/Assignment2-main/Case1/lib/python3.9/site-packages (from snowflake-connector-python->-r requirements.txt (line 2)) (2.4.0)\r\n",
      "Requirement already satisfied: typing-extensions<5,>=4.3 in /Users/anirudhajoshi/Documents/Test/Assignment2-main/Case1/lib/python3.9/site-packages (from snowflake-connector-python->-r requirements.txt (line 2)) (4.9.0)\r\n",
      "Requirement already satisfied: urllib3<2.0.0,>=1.21.1 in /Users/anirudhajoshi/Documents/Test/Assignment2-main/Case1/lib/python3.9/site-packages (from snowflake-connector-python->-r requirements.txt (line 2)) (1.26.18)\r\n",
      "Requirement already satisfied: charset-normalizer<4,>=2 in /Users/anirudhajoshi/Documents/Test/Assignment2-main/Case1/lib/python3.9/site-packages/charset_normalizer-3.3.2-py3.9-macosx-10.9-x86_64.egg (from snowflake-connector-python->-r requirements.txt (line 2)) (3.3.2)\r\n",
      "Requirement already satisfied: platformdirs<4.0.0,>=2.6.0 in /Users/anirudhajoshi/Documents/Test/Assignment2-main/Case1/lib/python3.9/site-packages (from snowflake-connector-python->-r requirements.txt (line 2)) (3.11.0)\r\n",
      "Requirement already satisfied: pyOpenSSL<24.0.0,>=16.2.0 in /Users/anirudhajoshi/Documents/Test/Assignment2-main/Case1/lib/python3.9/site-packages (from snowflake-connector-python->-r requirements.txt (line 2)) (23.3.0)\r\n",
      "Requirement already satisfied: cffi<2.0.0,>=1.9 in /Users/anirudhajoshi/Documents/Test/Assignment2-main/Case1/lib/python3.9/site-packages (from snowflake-connector-python->-r requirements.txt (line 2)) (1.16.0)\r\n",
      "Requirement already satisfied: cryptography<42.0.0,>=3.1.0 in /Users/anirudhajoshi/Documents/Test/Assignment2-main/Case1/lib/python3.9/site-packages (from snowflake-connector-python->-r requirements.txt (line 2)) (41.0.7)\r\n",
      "Requirement already satisfied: pyjwt<3.0.0 in /Users/anirudhajoshi/Documents/Test/Assignment2-main/Case1/lib/python3.9/site-packages (from snowflake-connector-python->-r requirements.txt (line 2)) (2.8.0)\r\n",
      "Requirement already satisfied: requests<3.0.0 in /Users/anirudhajoshi/Documents/Test/Assignment2-main/Case1/lib/python3.9/site-packages/requests-2.31.0-py3.9.egg (from snowflake-connector-python->-r requirements.txt (line 2)) (2.31.0)\r\n",
      "Requirement already satisfied: certifi>=2017.4.17 in /Users/anirudhajoshi/Documents/Test/Assignment2-main/Case1/lib/python3.9/site-packages/certifi-2024.2.2-py3.9.egg (from snowflake-connector-python->-r requirements.txt (line 2)) (2024.2.2)\r\n"
     ]
    },
    {
     "name": "stdout",
     "output_type": "stream",
     "text": [
      "Requirement already satisfied: python-dateutil>=2.8.2 in /Users/anirudhajoshi/Documents/Test/Assignment2-main/Case1/lib/python3.9/site-packages (from pandas->-r requirements.txt (line 3)) (2.8.2)\r\n",
      "Requirement already satisfied: tzdata>=2022.1 in /Users/anirudhajoshi/Documents/Test/Assignment2-main/Case1/lib/python3.9/site-packages (from pandas->-r requirements.txt (line 3)) (2024.1)\r\n",
      "Requirement already satisfied: numpy<2,>=1.22.4 in /Users/anirudhajoshi/Documents/Test/Assignment2-main/Case1/lib/python3.9/site-packages (from pandas->-r requirements.txt (line 3)) (1.26.4)\r\n"
     ]
    },
    {
     "name": "stdout",
     "output_type": "stream",
     "text": [
      "Requirement already satisfied: greenlet!=0.4.17 in /Users/anirudhajoshi/Documents/Test/Assignment2-main/Case1/lib/python3.9/site-packages (from sqlalchemy->-r requirements.txt (line 4)) (3.0.3)\r\n",
      "Requirement already satisfied: pyarrow in /Users/anirudhajoshi/Documents/Test/Assignment2-main/Case1/lib/python3.9/site-packages (from snowflake-connector-python->-r requirements.txt (line 2)) (15.0.0)\r\n",
      "Requirement already satisfied: pycparser in /Users/anirudhajoshi/Documents/Test/Assignment2-main/Case1/lib/python3.9/site-packages (from cffi<2.0.0,>=1.9->snowflake-connector-python->-r requirements.txt (line 2)) (2.21)\r\n"
     ]
    },
    {
     "name": "stdout",
     "output_type": "stream",
     "text": [
      "Requirement already satisfied: six>=1.5 in /Users/anirudhajoshi/Documents/Test/Assignment2-main/Case1/lib/python3.9/site-packages (from python-dateutil>=2.8.2->pandas->-r requirements.txt (line 3)) (1.16.0)\r\n"
     ]
    },
    {
     "name": "stdout",
     "output_type": "stream",
     "text": [
      "\u001b[33mWARNING: You are using pip version 22.0.4; however, version 24.0 is available.\r\n",
      "You should consider upgrading via the '/Users/anirudhajoshi/Documents/Test/Assignment2-main/Case1/bin/python -m pip install --upgrade pip' command.\u001b[0m\u001b[33m\r\n",
      "\u001b[0m"
     ]
    },
    {
     "name": "stdout",
     "output_type": "stream",
     "text": [
      "Note: you may need to restart the kernel to use updated packages.\n"
     ]
    }
   ],
   "source": [
    "pip install -r requirements.txt"
   ]
  },
  {
   "cell_type": "code",
   "execution_count": 2,
   "id": "db2f2ae3",
   "metadata": {
    "execution": {
     "iopub.execute_input": "2024-02-16T19:21:32.484319Z",
     "iopub.status.busy": "2024-02-16T19:21:32.484009Z",
     "iopub.status.idle": "2024-02-16T19:21:33.930617Z",
     "shell.execute_reply": "2024-02-16T19:21:33.929917Z"
    }
   },
   "outputs": [],
   "source": [
    "from dotenv import load_dotenv\n",
    "import os\n",
    "import snowflake.connector\n",
    "import pandas as pd\n",
    "from sqlalchemy import create_engine\n",
    "from snowflake.sqlalchemy import URL\n",
    "from snowflake.connector.pandas_tools import write_pandas"
   ]
  },
  {
   "cell_type": "code",
   "execution_count": 3,
   "id": "771f05dd",
   "metadata": {
    "execution": {
     "iopub.execute_input": "2024-02-16T19:21:33.935738Z",
     "iopub.status.busy": "2024-02-16T19:21:33.935334Z",
     "iopub.status.idle": "2024-02-16T19:21:39.839689Z",
     "shell.execute_reply": "2024-02-16T19:21:39.839023Z"
    }
   },
   "outputs": [
    {
     "name": "stdout",
     "output_type": "stream",
     "text": [
      "Snowflake setup completed successfully.\n"
     ]
    },
    {
     "name": "stdout",
     "output_type": "stream",
     "text": [
      "Data transfer to Snowflake completed successfully.\n"
     ]
    }
   ],
   "source": [
    "load_dotenv()\n",
    "\n",
    "# Retrieve Snowflake credentials from environment variables\n",
    "user = os.getenv('SNOWFLAKE_USER')\n",
    "password = os.getenv('SNOWFLAKE_PASSWORD')\n",
    "account = os.getenv('SNOWFLAKE_ACCOUNT')\n",
    "warehouse = 'SF_WH_CASE1'\n",
    "database = 'SF_DB_CASE1'\n",
    "schema = 'SF_CASE1'\n",
    "role = 'SYSADMIN'  \n",
    "\n",
    "# Load CSV data into DataFrame\n",
    "csv_file_path = '../Webscrape/CSV/extracted_updated.csv'  # Adjust this path as needed\n",
    "df = pd.read_csv(csv_file_path)\n",
    "\n",
    "# Prepare DataFrame for Snowflake by ensuring column names are uppercase\n",
    "df.columns = [col.upper() for col in df.columns]\n",
    "\n",
    "conn = snowflake.connector.connect(\n",
    "    user=user,\n",
    "    password=password,\n",
    "    account=account,\n",
    "    warehouse=warehouse,\n",
    "    database=database,\n",
    "    schema=schema,\n",
    "    role=role,\n",
    ")\n",
    "\n",
    "conn.cursor().execute(\"CREATE DATABASE IF NOT EXISTS SF_DB_CASE1\")\n",
    "conn.cursor().execute(\"USE DATABASE SF_DB_CASE1\")\n",
    "conn.cursor().execute(\"\"\"\n",
    "    CREATE WAREHOUSE IF NOT EXISTS SF_WH_CASE1\n",
    "    WITH WAREHOUSE_SIZE = 'MEDIUM'\n",
    "    AUTO_SUSPEND = 300\n",
    "    AUTO_RESUME = TRUE\n",
    "    WAREHOUSE_TYPE = 'STANDARD';\n",
    "\"\"\")\n",
    "conn.cursor().execute(\"CREATE SCHEMA IF NOT EXISTS SF_CASE1\")\n",
    "conn.cursor().execute(\"USE SCHEMA SF_CASE1\")\n",
    "conn.cursor().execute(\"\"\"\n",
    "    CREATE OR REPLACE TABLE SUMMARY_FINAL (\n",
    "        NAME_OF_THE_TOPIC VARCHAR(500),\n",
    "        YEAR VARCHAR(255),\n",
    "        LEVEL VARCHAR(255),\n",
    "        INTRODUCTION_SUMMARY VARCHAR(10000),\n",
    "        LEARNING_OUTCOMES VARCHAR(10000),\n",
    "        LINK_TO_THE_SUMMARY_PAGE VARCHAR(1000),\n",
    "        LINK_TO_THE_PDF_FILE VARCHAR(1000)\n",
    "    );\n",
    "\"\"\")\n",
    "\n",
    "print(\"Snowflake setup completed successfully.\")\n",
    "\n",
    "try:\n",
    "    write_pandas(conn, df, table_name='SUMMARY_FINAL')\n",
    "    print(\"Data transfer to Snowflake completed successfully.\")\n",
    "except Exception as e:\n",
    "    print(f\"Failed to transfer data to Snowflake: {e}\")\n",
    "finally:\n",
    "    conn.close()"
   ]
  },
  {
   "cell_type": "code",
   "execution_count": null,
   "id": "6b0f87cc",
   "metadata": {},
   "outputs": [],
   "source": []
  }
 ],
 "metadata": {
  "kernelspec": {
   "display_name": "Python 3 (ipykernel)",
   "language": "python",
   "name": "python3"
  },
  "language_info": {
   "codemirror_mode": {
    "name": "ipython",
    "version": 3
   },
   "file_extension": ".py",
   "mimetype": "text/x-python",
   "name": "python",
   "nbconvert_exporter": "python",
   "pygments_lexer": "ipython3",
   "version": "3.9.13"
  }
 },
 "nbformat": 4,
 "nbformat_minor": 5
}
