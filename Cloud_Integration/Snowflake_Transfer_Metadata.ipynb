{
 "cells": [
  {
   "cell_type": "code",
   "execution_count": 1,
   "id": "935ce53f",
   "metadata": {
    "execution": {
     "iopub.execute_input": "2024-02-15T02:59:14.224858Z",
     "iopub.status.busy": "2024-02-15T02:59:14.224249Z",
     "iopub.status.idle": "2024-02-15T02:59:19.985327Z",
     "shell.execute_reply": "2024-02-15T02:59:19.984760Z"
    }
   },
   "outputs": [
    {
     "name": "stdout",
     "output_type": "stream",
     "text": [
      "Requirement already satisfied: snowflake-connector-python in /opt/homebrew/Cellar/jupyterlab/4.0.10/libexec/lib/python3.12/site-packages (from -r requirements.txt (line 1)) (3.7.0)\r\n",
      "Requirement already satisfied: snowflake-sqlalchemy in /opt/homebrew/Cellar/jupyterlab/4.0.10/libexec/lib/python3.12/site-packages (from -r requirements.txt (line 2)) (1.5.1)\r\n",
      "Requirement already satisfied: python-dotenv in /opt/homebrew/Cellar/jupyterlab/4.0.10/libexec/lib/python3.12/site-packages (from -r requirements.txt (line 3)) (1.0.1)\r\n",
      "Collecting boto3 (from -r requirements.txt (line 4))\r\n",
      "  Downloading boto3-1.34.42-py3-none-any.whl.metadata (6.6 kB)\r\n",
      "Requirement already satisfied: sqlalchemy in /opt/homebrew/Cellar/jupyterlab/4.0.10/libexec/lib/python3.12/site-packages (from -r requirements.txt (line 5)) (1.4.51)\r\n",
      "Requirement already satisfied: asn1crypto<2.0.0,>0.24.0 in /opt/homebrew/Cellar/jupyterlab/4.0.10/libexec/lib/python3.12/site-packages (from snowflake-connector-python->-r requirements.txt (line 1)) (1.5.1)\r\n",
      "Requirement already satisfied: cffi<2.0.0,>=1.9 in /opt/homebrew/opt/cffi/lib/python3.12/site-packages (from snowflake-connector-python->-r requirements.txt (line 1)) (1.16.0)\r\n",
      "Requirement already satisfied: cryptography<42.0.0,>=3.1.0 in /opt/homebrew/Cellar/jupyterlab/4.0.10/libexec/lib/python3.12/site-packages (from snowflake-connector-python->-r requirements.txt (line 1)) (41.0.7)\r\n",
      "Requirement already satisfied: pyOpenSSL<24.0.0,>=16.2.0 in /opt/homebrew/Cellar/jupyterlab/4.0.10/libexec/lib/python3.12/site-packages (from snowflake-connector-python->-r requirements.txt (line 1)) (23.3.0)\r\n",
      "Requirement already satisfied: pyjwt<3.0.0 in /opt/homebrew/Cellar/jupyterlab/4.0.10/libexec/lib/python3.12/site-packages (from snowflake-connector-python->-r requirements.txt (line 1)) (2.8.0)\r\n",
      "Requirement already satisfied: pytz in /opt/homebrew/Cellar/jupyterlab/4.0.10/libexec/lib/python3.12/site-packages (from snowflake-connector-python->-r requirements.txt (line 1)) (2024.1)\r\n",
      "Requirement already satisfied: requests<3.0.0 in /opt/homebrew/opt/python-requests/lib/python3.12/site-packages (from snowflake-connector-python->-r requirements.txt (line 1)) (2.31.0)\r\n",
      "Requirement already satisfied: packaging in /opt/homebrew/opt/python-packaging/lib/python3.12/site-packages (from snowflake-connector-python->-r requirements.txt (line 1)) (23.2)\r\n",
      "Requirement already satisfied: charset-normalizer<4,>=2 in /opt/homebrew/opt/python-charset-normalizer/lib/python3.12/site-packages (from snowflake-connector-python->-r requirements.txt (line 1)) (3.3.2)\r\n",
      "Requirement already satisfied: idna<4,>=2.5 in /opt/homebrew/opt/python-idna/lib/python3.12/site-packages (from snowflake-connector-python->-r requirements.txt (line 1)) (3.6)\r\n",
      "Requirement already satisfied: certifi>=2017.4.17 in /opt/homebrew/opt/python-certifi/lib/python3.12/site-packages (from snowflake-connector-python->-r requirements.txt (line 1)) (2023.11.17)\r\n",
      "Requirement already satisfied: typing-extensions<5,>=4.3 in /opt/homebrew/Cellar/jupyterlab/4.0.10/libexec/lib/python3.12/site-packages (from snowflake-connector-python->-r requirements.txt (line 1)) (4.9.0)\r\n",
      "Requirement already satisfied: filelock<4,>=3.5 in /opt/homebrew/Cellar/jupyterlab/4.0.10/libexec/lib/python3.12/site-packages (from snowflake-connector-python->-r requirements.txt (line 1)) (3.13.1)\r\n",
      "Requirement already satisfied: sortedcontainers>=2.4.0 in /opt/homebrew/Cellar/jupyterlab/4.0.10/libexec/lib/python3.12/site-packages (from snowflake-connector-python->-r requirements.txt (line 1)) (2.4.0)\r\n",
      "Requirement already satisfied: platformdirs<4.0.0,>=2.6.0 in /opt/homebrew/Cellar/jupyterlab/4.0.10/libexec/lib/python3.12/site-packages (from snowflake-connector-python->-r requirements.txt (line 1)) (3.11.0)\r\n",
      "Requirement already satisfied: tomlkit in /opt/homebrew/Cellar/jupyterlab/4.0.10/libexec/lib/python3.12/site-packages (from snowflake-connector-python->-r requirements.txt (line 1)) (0.12.3)\r\n",
      "Collecting botocore<1.35.0,>=1.34.42 (from boto3->-r requirements.txt (line 4))\r\n",
      "  Downloading botocore-1.34.42-py3-none-any.whl.metadata (5.7 kB)\r\n",
      "Collecting jmespath<2.0.0,>=0.7.1 (from boto3->-r requirements.txt (line 4))\r\n",
      "  Downloading jmespath-1.0.1-py3-none-any.whl (20 kB)\r\n",
      "Collecting s3transfer<0.11.0,>=0.10.0 (from boto3->-r requirements.txt (line 4))\r\n",
      "  Downloading s3transfer-0.10.0-py3-none-any.whl.metadata (1.7 kB)\r\n",
      "Requirement already satisfied: python-dateutil<3.0.0,>=2.1 in /opt/homebrew/opt/python-dateutil/lib/python3.12/site-packages (from botocore<1.35.0,>=1.34.42->boto3->-r requirements.txt (line 4)) (2.8.2)\r\n",
      "Requirement already satisfied: urllib3<2.1,>=1.25.4 in /opt/homebrew/Cellar/jupyterlab/4.0.10/libexec/lib/python3.12/site-packages (from botocore<1.35.0,>=1.34.42->boto3->-r requirements.txt (line 4)) (1.26.18)\r\n",
      "Requirement already satisfied: pycparser in /opt/homebrew/opt/pycparser/lib/python3.12/site-packages (from cffi<2.0.0,>=1.9->snowflake-connector-python->-r requirements.txt (line 1)) (2.21)\r\n",
      "Requirement already satisfied: six>=1.5 in /opt/homebrew/opt/six/lib/python3.12/site-packages (from python-dateutil<3.0.0,>=2.1->botocore<1.35.0,>=1.34.42->boto3->-r requirements.txt (line 4)) (1.16.0)\r\n",
      "Downloading boto3-1.34.42-py3-none-any.whl (139 kB)\r\n",
      "\u001b[2K   \u001b[38;2;114;156;31m━━━━━━━━━━━━━━━━━━━━━━━━━━━━━━━━━━━━━━━━\u001b[0m \u001b[32m139.3/139.3 kB\u001b[0m \u001b[31m2.0 MB/s\u001b[0m eta \u001b[36m0:00:00\u001b[0m\r\n",
      "\u001b[?25hDownloading botocore-1.34.42-py3-none-any.whl (12.0 MB)\r\n",
      "\u001b[2K   \u001b[38;2;114;156;31m━━━━━━━━━━━━━━━━━━━━━━━━━━━━━━━━━━━━━━━━\u001b[0m \u001b[32m12.0/12.0 MB\u001b[0m \u001b[31m10.4 MB/s\u001b[0m eta \u001b[36m0:00:00\u001b[0m\r\n",
      "\u001b[?25hDownloading s3transfer-0.10.0-py3-none-any.whl (82 kB)\r\n",
      "\u001b[2K   \u001b[38;2;114;156;31m━━━━━━━━━━━━━━━━━━━━━━━━━━━━━━━━━━━━━━━━\u001b[0m \u001b[32m82.1/82.1 kB\u001b[0m \u001b[31m5.8 MB/s\u001b[0m eta \u001b[36m0:00:00\u001b[0m\r\n",
      "\u001b[?25hInstalling collected packages: jmespath, botocore, s3transfer, boto3\r\n",
      "Successfully installed boto3-1.34.42 botocore-1.34.42 jmespath-1.0.1 s3transfer-0.10.0\r\n",
      "\r\n",
      "\u001b[1m[\u001b[0m\u001b[34;49mnotice\u001b[0m\u001b[1;39;49m]\u001b[0m\u001b[39;49m A new release of pip is available: \u001b[0m\u001b[31;49m23.3.1\u001b[0m\u001b[39;49m -> \u001b[0m\u001b[32;49m24.0\u001b[0m\r\n",
      "\u001b[1m[\u001b[0m\u001b[34;49mnotice\u001b[0m\u001b[1;39;49m]\u001b[0m\u001b[39;49m To update, run: \u001b[0m\u001b[32;49m/opt/homebrew/Cellar/jupyterlab/4.0.10/libexec/bin/python -m pip install --upgrade pip\u001b[0m\r\n",
      "Note: you may need to restart the kernel to use updated packages.\n"
     ]
    }
   ],
   "source": [
    "pip install -r requirements.txt"
   ]
  },
  {
   "cell_type": "markdown",
   "id": "6acacc30",
   "metadata": {},
   "source": [
    "##### Import necessary libraries and load environment variables"
   ]
  },
  {
   "cell_type": "code",
   "execution_count": 2,
   "id": "e113adef",
   "metadata": {
    "execution": {
     "iopub.execute_input": "2024-02-15T02:59:19.988183Z",
     "iopub.status.busy": "2024-02-15T02:59:19.987934Z",
     "iopub.status.idle": "2024-02-15T02:59:20.657626Z",
     "shell.execute_reply": "2024-02-15T02:59:20.657237Z"
    }
   },
   "outputs": [
    {
     "data": {
      "text/plain": [
       "True"
      ]
     },
     "execution_count": 2,
     "metadata": {},
     "output_type": "execute_result"
    }
   ],
   "source": [
    "\n",
    "import os\n",
    "import snowflake.connector\n",
    "import boto3\n",
    "from sqlalchemy import create_engine, MetaData, Table, Column, VARCHAR, TIMESTAMP, INTEGER\n",
    "from dotenv import load_dotenv\n",
    "from snowflake.sqlalchemy import URL\n",
    "from sqlalchemy.types import String, DateTime, Integer\n",
    "\n",
    "load_dotenv()\n"
   ]
  },
  {
   "cell_type": "markdown",
   "id": "b344b917",
   "metadata": {},
   "source": [
    "##### Retrieve Snowflake credentials from environment variables"
   ]
  },
  {
   "cell_type": "code",
   "execution_count": 3,
   "id": "82130c81",
   "metadata": {
    "execution": {
     "iopub.execute_input": "2024-02-15T02:59:20.659657Z",
     "iopub.status.busy": "2024-02-15T02:59:20.659428Z",
     "iopub.status.idle": "2024-02-15T02:59:20.661729Z",
     "shell.execute_reply": "2024-02-15T02:59:20.661425Z"
    }
   },
   "outputs": [],
   "source": [
    "\n",
    "snowflake_user = os.getenv('SNOWFLAKE_USER')\n",
    "snowflake_password = os.getenv('SNOWFLAKE_PASSWORD')\n",
    "snowflake_account = os.getenv('SNOWFLAKE_ACCOUNT')\n",
    "warehouse = 'SF_WH_CASE1'\n",
    "database = 'SF_DB_CASE1'\n",
    "schema = 'SF_CASE1'\n",
    "role = 'SYSADMIN'  # Replace with your full access role\n"
   ]
  },
  {
   "cell_type": "markdown",
   "id": "ce5c4dea",
   "metadata": {},
   "source": [
    "##### Retrieve S3 credentials from environment variables"
   ]
  },
  {
   "cell_type": "code",
   "execution_count": 4,
   "id": "1c139935",
   "metadata": {
    "execution": {
     "iopub.execute_input": "2024-02-15T02:59:20.663407Z",
     "iopub.status.busy": "2024-02-15T02:59:20.663278Z",
     "iopub.status.idle": "2024-02-15T02:59:20.665107Z",
     "shell.execute_reply": "2024-02-15T02:59:20.664790Z"
    }
   },
   "outputs": [],
   "source": [
    "\n",
    "aws_access_key_id = os.getenv('AWS_ACCESS_KEY_ID')\n",
    "aws_secret_access_key = os.getenv('AWS_SECRET_ACCESS_KEY')\n"
   ]
  },
  {
   "cell_type": "markdown",
   "id": "a530f74c",
   "metadata": {},
   "source": [
    "##### Connect to Snowflake and create a cursor object"
   ]
  },
  {
   "cell_type": "code",
   "execution_count": 5,
   "id": "ab29565f",
   "metadata": {
    "execution": {
     "iopub.execute_input": "2024-02-15T02:59:20.666785Z",
     "iopub.status.busy": "2024-02-15T02:59:20.666656Z",
     "iopub.status.idle": "2024-02-15T02:59:21.447524Z",
     "shell.execute_reply": "2024-02-15T02:59:21.446535Z"
    }
   },
   "outputs": [],
   "source": [
    "\n",
    "conn = snowflake.connector.connect(\n",
    "    user=snowflake_user,\n",
    "    password=snowflake_password,\n",
    "    account=snowflake_account,\n",
    "    warehouse=warehouse,\n",
    "    database=database,\n",
    "    schema=schema,\n",
    "    role=role,\n",
    ")\n",
    "cur = conn.cursor()\n"
   ]
  },
  {
   "cell_type": "markdown",
   "id": "f73de9a2",
   "metadata": {},
   "source": [
    "##### Execute SQL commands for setup"
   ]
  },
  {
   "cell_type": "code",
   "execution_count": 6,
   "id": "3865520f",
   "metadata": {
    "execution": {
     "iopub.execute_input": "2024-02-15T02:59:21.452900Z",
     "iopub.status.busy": "2024-02-15T02:59:21.452476Z",
     "iopub.status.idle": "2024-02-15T02:59:22.356821Z",
     "shell.execute_reply": "2024-02-15T02:59:22.356071Z"
    }
   },
   "outputs": [
    {
     "name": "stdout",
     "output_type": "stream",
     "text": [
      "Snowflake setup completed successfully.\n"
     ]
    }
   ],
   "source": [
    "\n",
    "try:\n",
    "    cur.execute(\"CREATE DATABASE IF NOT EXISTS SF_DB_CASE1\")\n",
    "    cur.execute(\"USE DATABASE SF_DB_CASE1\")\n",
    "    cur.execute(\"\"\"\n",
    "        CREATE WAREHOUSE IF NOT EXISTS SF_WH_CASE1\n",
    "        WITH WAREHOUSE_SIZE = 'MEDIUM'\n",
    "        WAREHOUSE_TYPE = 'STANDARD'\n",
    "        AUTO_SUSPEND = 300\n",
    "        AUTO_RESUME = TRUE;\n",
    "    \"\"\")\n",
    "    cur.execute(\"CREATE SCHEMA IF NOT EXISTS SF_CASE1\")\n",
    "    cur.execute(\"USE SCHEMA SF_CASE1\")\n",
    "    cur.execute(\"\"\"\n",
    "        CREATE OR REPLACE TABLE METADATA (\n",
    "            OBJECT_NAME VARCHAR(255),\n",
    "            LAST_MODIFIED TIMESTAMP,\n",
    "            SIZE_BYTES NUMBER,\n",
    "            LINK_TO_TXT_FILE VARCHAR(1000)\n",
    "        );\n",
    "    \"\"\")\n",
    "    print(\"Snowflake setup completed successfully.\")\n",
    "except Exception as e:\n",
    "    print(e)\n",
    "finally:\n",
    "    # Always close the cursor\n",
    "    cur.close()\n"
   ]
  },
  {
   "cell_type": "markdown",
   "id": "f201a0a7",
   "metadata": {},
   "source": [
    "##### Initialize S3 client"
   ]
  },
  {
   "cell_type": "code",
   "execution_count": 7,
   "id": "a695ac94",
   "metadata": {
    "execution": {
     "iopub.execute_input": "2024-02-15T02:59:22.361375Z",
     "iopub.status.busy": "2024-02-15T02:59:22.360739Z",
     "iopub.status.idle": "2024-02-15T02:59:22.918724Z",
     "shell.execute_reply": "2024-02-15T02:59:22.918100Z"
    }
   },
   "outputs": [],
   "source": [
    "\n",
    "s3 = boto3.client('s3', aws_access_key_id=aws_access_key_id, aws_secret_access_key=aws_secret_access_key)\n"
   ]
  },
  {
   "cell_type": "markdown",
   "id": "fff5aa55",
   "metadata": {},
   "source": [
    "##### Specify S3 bucket and prefix and list objects"
   ]
  },
  {
   "cell_type": "code",
   "execution_count": 8,
   "id": "e81ff02c",
   "metadata": {
    "execution": {
     "iopub.execute_input": "2024-02-15T02:59:22.922542Z",
     "iopub.status.busy": "2024-02-15T02:59:22.922283Z",
     "iopub.status.idle": "2024-02-15T02:59:23.971369Z",
     "shell.execute_reply": "2024-02-15T02:59:23.970068Z"
    }
   },
   "outputs": [],
   "source": [
    "\n",
    "bucket_name = 'bigdata-pypdf'\n",
    "prefix = 'PyPDF/'\n",
    "response = s3.list_objects_v2(Bucket=bucket_name, Prefix=prefix)\n"
   ]
  },
  {
   "cell_type": "code",
   "execution_count": 9,
   "id": "be15a348",
   "metadata": {
    "execution": {
     "iopub.execute_input": "2024-02-15T02:59:23.977070Z",
     "iopub.status.busy": "2024-02-15T02:59:23.976807Z",
     "iopub.status.idle": "2024-02-15T02:59:25.060940Z",
     "shell.execute_reply": "2024-02-15T02:59:25.060038Z"
    }
   },
   "outputs": [],
   "source": [
    "engine = create_engine(URL(\n",
    "    account = snowflake_account,\n",
    "    user = snowflake_user,\n",
    "    password = snowflake_password,\n",
    "    database = database,\n",
    "    schema = schema,\n",
    "    warehouse = warehouse,\n",
    "    role = role,\n",
    "))\n",
    "\n",
    "metadata = MetaData()\n",
    "\n",
    "\n",
    "metadata_table = Table(\n",
    "    'METADATA', metadata,\n",
    "    Column('OBJECT_NAME', String(255)),\n",
    "    Column('LAST_MODIFIED', DateTime),\n",
    "    Column('SIZE_BYTES', Integer),\n",
    "    Column('LINK_TO_TXT_FILE', String(1000))\n",
    ")\n",
    "\n",
    "metadata.create_all(engine, checkfirst=True)"
   ]
  },
  {
   "cell_type": "markdown",
   "id": "48fcd0bb",
   "metadata": {},
   "source": [
    "##### Metadata transfer to Snowflake"
   ]
  },
  {
   "cell_type": "code",
   "execution_count": 10,
   "id": "d873d61d",
   "metadata": {
    "execution": {
     "iopub.execute_input": "2024-02-15T02:59:25.066260Z",
     "iopub.status.busy": "2024-02-15T02:59:25.065818Z",
     "iopub.status.idle": "2024-02-15T02:59:28.760165Z",
     "shell.execute_reply": "2024-02-15T02:59:28.758813Z"
    }
   },
   "outputs": [
    {
     "name": "stderr",
     "output_type": "stream",
     "text": [
      "/var/folders/dj/wcp4hvwd7wzglrm85gjck8lr0000gn/T/ipykernel_28838/4177252381.py:8: RemovedIn20Warning: Deprecated API features detected! These feature(s) are not compatible with SQLAlchemy 2.0. To prevent incompatible upgrades prior to updating applications, ensure requirements files are pinned to \"sqlalchemy<2.0\". Set environment variable SQLALCHEMY_WARN_20=1 to show all deprecation warnings.  Set environment variable SQLALCHEMY_SILENCE_UBER_WARNING=1 to silence this message. (Background on SQLAlchemy 2.0 at: https://sqlalche.me/e/b8d9)\n",
      "  connection.execute(metadata_table.insert().values(\n"
     ]
    },
    {
     "name": "stdout",
     "output_type": "stream",
     "text": [
      "Metadata transfer to Snowflake completed successfully.\n"
     ]
    }
   ],
   "source": [
    "\n",
    "try:\n",
    "    with engine.connect() as connection:\n",
    "        for obj in response.get('Contents', []):\n",
    "            object_name = obj['Key']\n",
    "            last_modified = obj['LastModified']\n",
    "            size_bytes = obj['Size']\n",
    "            link_to_txt_file = f\"https://{bucket_name}.s3.amazonaws.com/{object_name}\"\n",
    "            connection.execute(metadata_table.insert().values(\n",
    "                OBJECT_NAME=object_name,\n",
    "                LAST_MODIFIED=last_modified,\n",
    "                SIZE_BYTES=size_bytes,\n",
    "                LINK_TO_TXT_FILE=link_to_txt_file\n",
    "            ))\n",
    "    print(\"Metadata transfer to Snowflake completed successfully.\")\n",
    "except Exception as e:\n",
    "    print(e)\n"
   ]
  },
  {
   "cell_type": "code",
   "execution_count": 11,
   "id": "741ccb78",
   "metadata": {
    "execution": {
     "iopub.execute_input": "2024-02-15T02:59:28.765357Z",
     "iopub.status.busy": "2024-02-15T02:59:28.764991Z",
     "iopub.status.idle": "2024-02-15T02:59:29.037971Z",
     "shell.execute_reply": "2024-02-15T02:59:29.037522Z"
    }
   },
   "outputs": [],
   "source": [
    "\n",
    "conn.close()\n"
   ]
  },
  {
   "cell_type": "code",
   "execution_count": null,
   "id": "a41b5047",
   "metadata": {},
   "outputs": [],
   "source": []
  }
 ],
 "metadata": {
  "kernelspec": {
   "display_name": "Python 3 (ipykernel)",
   "language": "python",
   "name": "python3"
  },
  "language_info": {
   "codemirror_mode": {
    "name": "ipython",
    "version": 3
   },
   "file_extension": ".py",
   "mimetype": "text/x-python",
   "name": "python",
   "nbconvert_exporter": "python",
   "pygments_lexer": "ipython3",
   "version": "3.12.1"
  }
 },
 "nbformat": 4,
 "nbformat_minor": 5
}
