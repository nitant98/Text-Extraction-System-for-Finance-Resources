{
 "cells": [
  {
   "cell_type": "markdown",
   "id": "f6776986",
   "metadata": {},
   "source": [
    "#### Installing the requirements"
   ]
  },
  {
   "cell_type": "code",
   "execution_count": 1,
   "id": "6879766f",
   "metadata": {
    "execution": {
     "iopub.execute_input": "2024-02-16T04:30:52.401357Z",
     "iopub.status.busy": "2024-02-16T04:30:52.401097Z",
     "iopub.status.idle": "2024-02-16T04:30:56.928233Z",
     "shell.execute_reply": "2024-02-16T04:30:56.927393Z"
    }
   },
   "outputs": [
    {
     "name": "stdout",
     "output_type": "stream",
     "text": [
      "Requirement already satisfied: requests in /Users/anirudhajoshi/opt/anaconda3/lib/python3.9/site-packages (from -r requirements.txt (line 1)) (2.28.1)\r\n",
      "Requirement already satisfied: requests_html in /Users/anirudhajoshi/opt/anaconda3/lib/python3.9/site-packages (from -r requirements.txt (line 2)) (0.10.0)\r\n",
      "Requirement already satisfied: beautifulsoup4 in /Users/anirudhajoshi/opt/anaconda3/lib/python3.9/site-packages (from -r requirements.txt (line 3)) (4.11.1)\r\n",
      "Requirement already satisfied: pandas in /Users/anirudhajoshi/opt/anaconda3/lib/python3.9/site-packages (from -r requirements.txt (line 4)) (1.4.4)\r\n",
      "Requirement already satisfied: certifi>=2017.4.17 in /Users/anirudhajoshi/opt/anaconda3/lib/python3.9/site-packages (from requests->-r requirements.txt (line 1)) (2022.6.15)\r\n",
      "Requirement already satisfied: charset-normalizer<3,>=2 in /Users/anirudhajoshi/opt/anaconda3/lib/python3.9/site-packages (from requests->-r requirements.txt (line 1)) (2.0.4)\r\n",
      "Requirement already satisfied: urllib3<1.27,>=1.21.1 in /Users/anirudhajoshi/opt/anaconda3/lib/python3.9/site-packages (from requests->-r requirements.txt (line 1)) (1.26.11)\r\n",
      "Requirement already satisfied: idna<4,>=2.5 in /Users/anirudhajoshi/opt/anaconda3/lib/python3.9/site-packages (from requests->-r requirements.txt (line 1)) (3.3)\r\n",
      "Requirement already satisfied: bs4 in /Users/anirudhajoshi/opt/anaconda3/lib/python3.9/site-packages (from requests_html->-r requirements.txt (line 2)) (0.0.2)\r\n",
      "Requirement already satisfied: fake-useragent in /Users/anirudhajoshi/opt/anaconda3/lib/python3.9/site-packages (from requests_html->-r requirements.txt (line 2)) (1.4.0)\r\n",
      "Requirement already satisfied: pyquery in /Users/anirudhajoshi/opt/anaconda3/lib/python3.9/site-packages (from requests_html->-r requirements.txt (line 2)) (2.0.0)\r\n",
      "Requirement already satisfied: pyppeteer>=0.0.14 in /Users/anirudhajoshi/opt/anaconda3/lib/python3.9/site-packages (from requests_html->-r requirements.txt (line 2)) (1.0.2)\r\n",
      "Requirement already satisfied: w3lib in /Users/anirudhajoshi/opt/anaconda3/lib/python3.9/site-packages (from requests_html->-r requirements.txt (line 2)) (1.21.0)\r\n",
      "Requirement already satisfied: parse in /Users/anirudhajoshi/opt/anaconda3/lib/python3.9/site-packages (from requests_html->-r requirements.txt (line 2)) (1.20.1)\r\n"
     ]
    },
    {
     "name": "stdout",
     "output_type": "stream",
     "text": [
      "Requirement already satisfied: soupsieve>1.2 in /Users/anirudhajoshi/opt/anaconda3/lib/python3.9/site-packages (from beautifulsoup4->-r requirements.txt (line 3)) (2.3.1)\r\n",
      "Requirement already satisfied: python-dateutil>=2.8.1 in /Users/anirudhajoshi/opt/anaconda3/lib/python3.9/site-packages (from pandas->-r requirements.txt (line 4)) (2.8.2)\r\n",
      "Requirement already satisfied: pytz>=2020.1 in /Users/anirudhajoshi/opt/anaconda3/lib/python3.9/site-packages (from pandas->-r requirements.txt (line 4)) (2022.7.1)\r\n",
      "Requirement already satisfied: numpy>=1.18.5 in /Users/anirudhajoshi/opt/anaconda3/lib/python3.9/site-packages (from pandas->-r requirements.txt (line 4)) (1.19.5)\r\n",
      "Requirement already satisfied: pyee<9.0.0,>=8.1.0 in /Users/anirudhajoshi/opt/anaconda3/lib/python3.9/site-packages (from pyppeteer>=0.0.14->requests_html->-r requirements.txt (line 2)) (8.2.2)\r\n",
      "Requirement already satisfied: websockets<11.0,>=10.0 in /Users/anirudhajoshi/opt/anaconda3/lib/python3.9/site-packages (from pyppeteer>=0.0.14->requests_html->-r requirements.txt (line 2)) (10.4)\r\n",
      "Requirement already satisfied: importlib-metadata>=1.4 in /Users/anirudhajoshi/opt/anaconda3/lib/python3.9/site-packages (from pyppeteer>=0.0.14->requests_html->-r requirements.txt (line 2)) (4.11.3)\r\n",
      "Requirement already satisfied: appdirs<2.0.0,>=1.4.3 in /Users/anirudhajoshi/opt/anaconda3/lib/python3.9/site-packages (from pyppeteer>=0.0.14->requests_html->-r requirements.txt (line 2)) (1.4.4)\r\n",
      "Requirement already satisfied: tqdm<5.0.0,>=4.42.1 in /Users/anirudhajoshi/opt/anaconda3/lib/python3.9/site-packages (from pyppeteer>=0.0.14->requests_html->-r requirements.txt (line 2)) (4.64.1)\r\n",
      "Requirement already satisfied: six>=1.5 in /Users/anirudhajoshi/opt/anaconda3/lib/python3.9/site-packages (from python-dateutil>=2.8.1->pandas->-r requirements.txt (line 4)) (1.16.0)\r\n",
      "Requirement already satisfied: importlib-resources>=5.0 in /Users/anirudhajoshi/opt/anaconda3/lib/python3.9/site-packages (from fake-useragent->requests_html->-r requirements.txt (line 2)) (6.1.1)\r\n"
     ]
    },
    {
     "name": "stdout",
     "output_type": "stream",
     "text": [
      "Requirement already satisfied: lxml>=2.1 in /Users/anirudhajoshi/opt/anaconda3/lib/python3.9/site-packages (from pyquery->requests_html->-r requirements.txt (line 2)) (4.9.1)\r\n",
      "Requirement already satisfied: cssselect>=1.2.0 in /Users/anirudhajoshi/opt/anaconda3/lib/python3.9/site-packages (from pyquery->requests_html->-r requirements.txt (line 2)) (1.2.0)\r\n",
      "Requirement already satisfied: zipp>=0.5 in /Users/anirudhajoshi/opt/anaconda3/lib/python3.9/site-packages (from importlib-metadata>=1.4->pyppeteer>=0.0.14->requests_html->-r requirements.txt (line 2)) (3.8.0)\r\n"
     ]
    },
    {
     "name": "stdout",
     "output_type": "stream",
     "text": [
      "Note: you may need to restart the kernel to use updated packages.\n"
     ]
    }
   ],
   "source": [
    "pip install -r requirements.txt"
   ]
  },
  {
   "cell_type": "markdown",
   "id": "e4ca326a",
   "metadata": {},
   "source": [
    "#### Importing the dependencies"
   ]
  },
  {
   "cell_type": "code",
   "execution_count": 2,
   "id": "d9f4c512",
   "metadata": {
    "execution": {
     "iopub.execute_input": "2024-02-16T04:30:56.932538Z",
     "iopub.status.busy": "2024-02-16T04:30:56.932316Z",
     "iopub.status.idle": "2024-02-16T04:33:28.100345Z",
     "shell.execute_reply": "2024-02-16T04:33:28.098498Z"
    }
   },
   "outputs": [],
   "source": [
    "# Running the Python script from a Jupyter notebook\n",
    "!python webscrapper_script.py\n"
   ]
  },
  {
   "cell_type": "code",
   "execution_count": 3,
   "id": "26e4a061",
   "metadata": {
    "execution": {
     "iopub.execute_input": "2024-02-16T04:33:28.113526Z",
     "iopub.status.busy": "2024-02-16T04:33:28.113255Z",
     "iopub.status.idle": "2024-02-16T04:33:28.119558Z",
     "shell.execute_reply": "2024-02-16T04:33:28.119003Z"
    }
   },
   "outputs": [],
   "source": [
    "# import pandas as pd\n",
    "\n",
    "# # Load the CSV file into a DataFrame\n",
    "# df = pd.read_csv('extracted_updated.csv')\n",
    "\n",
    "# # Display the DataFrame\n",
    "# df.head()\n"
   ]
  },
  {
   "cell_type": "code",
   "execution_count": null,
   "id": "9766be13",
   "metadata": {},
   "outputs": [],
   "source": []
  }
 ],
 "metadata": {
  "kernelspec": {
   "display_name": "Python 3 (ipykernel)",
   "language": "python",
   "name": "python3"
  },
  "language_info": {
   "codemirror_mode": {
    "name": "ipython",
    "version": 3
   },
   "file_extension": ".py",
   "mimetype": "text/x-python",
   "name": "python",
   "nbconvert_exporter": "python",
   "pygments_lexer": "ipython3",
   "version": "3.9.13"
  }
 },
 "nbformat": 4,
 "nbformat_minor": 5
}
